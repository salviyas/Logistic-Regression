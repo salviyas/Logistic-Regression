{
  "nbformat": 4,
  "nbformat_minor": 0,
  "metadata": {
    "colab": {
      "provenance": [],
      "authorship_tag": "ABX9TyM9EJ7s+9u1BfyVotn7PbsM",
      "include_colab_link": true
    },
    "kernelspec": {
      "name": "python3",
      "display_name": "Python 3"
    },
    "language_info": {
      "name": "python"
    }
  },
  "cells": [
    {
      "cell_type": "markdown",
      "metadata": {
        "id": "view-in-github",
        "colab_type": "text"
      },
      "source": [
        "<a href=\"https://colab.research.google.com/github/salviyas/Logistic-Regression/blob/main/Logistic_regression.ipynb\" target=\"_parent\"><img src=\"https://colab.research.google.com/assets/colab-badge.svg\" alt=\"Open In Colab\"/></a>"
      ]
    },
    {
      "cell_type": "code",
      "execution_count": 2,
      "metadata": {
        "id": "tsM9NqtmiOHT"
      },
      "outputs": [],
      "source": [
        "from sklearn.datasets import load_iris"
      ]
    },
    {
      "cell_type": "code",
      "source": [
        "iris=load_iris()\n",
        "\n",
        "x=iris.data\n",
        "y=iris.target\n",
        "feature_names=iris.feature_names\n",
        "target_names=iris.target_names\n",
        "\n",
        "print(feature_names)\n",
        "print(target_names )"
      ],
      "metadata": {
        "colab": {
          "base_uri": "https://localhost:8080/"
        },
        "id": "Hvq0pD53i71s",
        "outputId": "bf5e9804-227d-4689-a0ff-10e984720215"
      },
      "execution_count": 3,
      "outputs": [
        {
          "output_type": "stream",
          "name": "stdout",
          "text": [
            "['sepal length (cm)', 'sepal width (cm)', 'petal length (cm)', 'petal width (cm)']\n",
            "['setosa' 'versicolor' 'virginica']\n"
          ]
        }
      ]
    },
    {
      "cell_type": "code",
      "source": [
        "import numpy as np\n",
        "import pandas as pd\n",
        "from sklearn import datasets\n",
        "from sklearn.model_selection import train_test_split\n",
        "from sklearn.linear_model import LogisticRegression\n",
        "from sklearn.preprocessing import StandardScaler\n",
        "from sklearn.metrics import accuracy_score\n",
        "from sklearn.metrics import confusion_matrix\n",
        "from sklearn.metrics import classification_report\n",
        "from sklearn.metrics import accuracy_score"
      ],
      "metadata": {
        "id": "Lz8RxmsRji1l"
      },
      "execution_count": 4,
      "outputs": []
    },
    {
      "cell_type": "code",
      "source": [
        "iris=datasets.load_iris()\n",
        "\n",
        "x=iris.data\n",
        "y=iris.target\n",
        "\n",
        "\n",
        "df=pd.DataFrame(iris.data,columns=iris.feature_names)\n",
        "df['target']=y\n",
        "\n",
        "\n",
        "scalar=StandardScaler()\n",
        "x_scaled=scalar.fit_transform(x)\n",
        "\n",
        "\n",
        "x_train,x_test,y_train,y_test=train_test_split(x_scaled,y,test_size=0.2,random_state=10)\n",
        "\n",
        "model=LogisticRegression()\n",
        "model.fit(x_train,y_train)\n",
        "\n",
        "y_pred=model.predict(x_test)\n",
        "\n",
        "print(\"Accuracy:\",accuracy_score(y_test,y_pred))\n",
        "\n",
        "\n",
        "\n"
      ],
      "metadata": {
        "colab": {
          "base_uri": "https://localhost:8080/"
        },
        "id": "_upOIF95ktMg",
        "outputId": "5234b143-cc2c-477f-9859-ce4b90f88706"
      },
      "execution_count": 16,
      "outputs": [
        {
          "output_type": "stream",
          "name": "stdout",
          "text": [
            "Accuracy: 1.0\n"
          ]
        }
      ]
    },
    {
      "cell_type": "code",
      "source": [
        "new_data=np.array([[5.1,3.5,1.4,0.2]])\n",
        "new_data_scaled=scalar.transform(new_data)\n",
        "prediction=model.predict(new_data_scaled)\n",
        "print(prediction)"
      ],
      "metadata": {
        "colab": {
          "base_uri": "https://localhost:8080/"
        },
        "id": "S-Pe0sBfl00I",
        "outputId": "4b68450a-98af-4ba2-b732-7d1129ee6aba"
      },
      "execution_count": 17,
      "outputs": [
        {
          "output_type": "stream",
          "name": "stdout",
          "text": [
            "[0]\n"
          ]
        }
      ]
    },
    {
      "cell_type": "code",
      "source": [
        "new_data = np.array([[5.1, 3.5, 1.4, 0.2]])\n",
        "new_data_scaled = scalar.transform(new_data)\n",
        "prediction = model.predict(new_data_scaled)\n",
        "print(\"Prediction for new data:\", iris.target_names[prediction][0])\n",
        "\n",
        "\n",
        "new_data = np.array([[4, 2.1, 3.5, 0.2], [7, 3.4, 5.4, 2.3]])\n",
        "new_data_scaled = scalar.transform(new_data)\n",
        "predictions = model.predict(new_data_scaled)\n",
        "print(\"Predictions for new data:\", iris.target_names[predictions])\n",
        "\n",
        "\n"
      ],
      "metadata": {
        "colab": {
          "base_uri": "https://localhost:8080/"
        },
        "id": "4gSP-T99wUg3",
        "outputId": "02c06b12-1118-42b2-fe9b-85261ead057e"
      },
      "execution_count": 24,
      "outputs": [
        {
          "output_type": "stream",
          "name": "stdout",
          "text": [
            "Prediction for new data: setosa\n",
            "Predictions for new data: ['versicolor' 'virginica']\n"
          ]
        }
      ]
    }
  ]
}